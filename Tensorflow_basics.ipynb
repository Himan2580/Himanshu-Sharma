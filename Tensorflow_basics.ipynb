{
  "nbformat": 4,
  "nbformat_minor": 0,
  "metadata": {
    "colab": {
      "name": "Tensorflow basics.ipynb",
      "version": "0.3.2",
      "provenance": [],
      "collapsed_sections": [],
      "include_colab_link": true
    },
    "kernelspec": {
      "name": "python3",
      "display_name": "Python 3"
    }
  },
  "cells": [
    {
      "cell_type": "markdown",
      "metadata": {
        "id": "view-in-github",
        "colab_type": "text"
      },
      "source": [
        "<a href=\"https://colab.research.google.com/github/Himan2580/Himanshu-Sharma/blob/master/Tensorflow_basics.ipynb\" target=\"_parent\"><img src=\"https://colab.research.google.com/assets/colab-badge.svg\" alt=\"Open In Colab\"/></a>"
      ]
    },
    {
      "cell_type": "code",
      "metadata": {
        "id": "NbiIkThAyrpn",
        "colab_type": "code",
        "colab": {}
      },
      "source": [
        "import tensorflow as tf\n",
        "import numpy as np"
      ],
      "execution_count": 0,
      "outputs": []
    },
    {
      "cell_type": "code",
      "metadata": {
        "id": "5kHJ7lVh1YSH",
        "colab_type": "code",
        "colab": {}
      },
      "source": [
        "sess = tf.InteractiveSession()"
      ],
      "execution_count": 0,
      "outputs": []
    },
    {
      "cell_type": "code",
      "metadata": {
        "id": "FMxdTOL8nzz3",
        "colab_type": "code",
        "outputId": "b08aac09-8ef3-45e1-8344-3e4381028667",
        "colab": {
          "base_uri": "https://localhost:8080/",
          "height": 34
        }
      },
      "source": [
        "from datetime import date\n",
        "date.today()"
      ],
      "execution_count": 0,
      "outputs": [
        {
          "output_type": "execute_result",
          "data": {
            "text/plain": [
              "datetime.date(2019, 7, 10)"
            ]
          },
          "metadata": {
            "tags": []
          },
          "execution_count": 1
        }
      ]
    },
    {
      "cell_type": "markdown",
      "metadata": {
        "id": "PIVg7HfYzO1y",
        "colab_type": "text"
      },
      "source": [
        "## **Arithmetic Operators**"
      ]
    },
    {
      "cell_type": "code",
      "metadata": {
        "id": "xJNi6pXsy5FR",
        "colab_type": "code",
        "outputId": "5790d810-43a6-40c4-b587-d1284d88c257",
        "colab": {
          "base_uri": "https://localhost:8080/",
          "height": 34
        }
      },
      "source": [
        "x_ = np.array([1,2,3])\n",
        "y_ = np.array([-1,-2,-3])\n",
        "x = tf.convert_to_tensor(x_)\n",
        "y = tf.convert_to_tensor(y_)\n",
        "output1 = tf.add(x, y)\n",
        "print(output1.eval())\n",
        "output2 = x + y\n",
        "assert np.array_equal(output1.eval(),output2.eval())"
      ],
      "execution_count": 0,
      "outputs": [
        {
          "output_type": "stream",
          "text": [
            "[0 0 0]\n"
          ],
          "name": "stdout"
        }
      ]
    },
    {
      "cell_type": "code",
      "metadata": {
        "id": "l1qbEVEJ19sH",
        "colab_type": "code",
        "outputId": "aa9399a8-c9ec-493f-d8a1-e3d15b7a6b00",
        "colab": {
          "base_uri": "https://localhost:8080/",
          "height": 34
        }
      },
      "source": [
        "x_ = np.array([3,4,5])\n",
        "y_ = np.array(3)\n",
        "x = tf.convert_to_tensor(x_)\n",
        "y = tf.convert_to_tensor(y_)\n",
        "output1 = tf.subtract(x,y)\n",
        "output2 = x - y\n",
        "print(output1.eval())\n",
        "assert np.array_equal(output1.eval(),output2.eval())"
      ],
      "execution_count": 0,
      "outputs": [
        {
          "output_type": "stream",
          "text": [
            "[0 1 2]\n"
          ],
          "name": "stdout"
        }
      ]
    },
    {
      "cell_type": "code",
      "metadata": {
        "id": "WR3yfQ3T2zBh",
        "colab_type": "code",
        "outputId": "c45db622-aee5-4b17-a28b-7177dbe03110",
        "colab": {
          "base_uri": "https://localhost:8080/",
          "height": 34
        }
      },
      "source": [
        "x_ = np.array([4,5,6])\n",
        "x = tf.convert_to_tensor(x_)\n",
        "output1 = tf.scalar_mul(5,x)\n",
        "output2 = x * 5\n",
        "print(output1.eval())\n",
        "assert np.array_equal(output1.eval(), output2.eval())"
      ],
      "execution_count": 0,
      "outputs": [
        {
          "output_type": "stream",
          "text": [
            "[20 25 30]\n"
          ],
          "name": "stdout"
        }
      ]
    },
    {
      "cell_type": "markdown",
      "metadata": {
        "id": "djzgxK2q29DI",
        "colab_type": "text"
      },
      "source": [
        "# **Matrix math function**"
      ]
    },
    {
      "cell_type": "code",
      "metadata": {
        "id": "Zdk6dgT-2D6F",
        "colab_type": "code",
        "outputId": "488e92f0-b7e2-48a1-9421-846c6dc4831e",
        "colab": {
          "base_uri": "https://localhost:8080/",
          "height": 85
        }
      },
      "source": [
        "x_ = np.array([1,2,3,4])\n",
        "x = tf.convert_to_tensor(x_)\n",
        "output = tf.diag(x)\n",
        "print(output.eval())"
      ],
      "execution_count": 0,
      "outputs": [
        {
          "output_type": "stream",
          "text": [
            "[[1 0 0 0]\n",
            " [0 2 0 0]\n",
            " [0 0 3 0]\n",
            " [0 0 0 4]]\n"
          ],
          "name": "stdout"
        }
      ]
    },
    {
      "cell_type": "code",
      "metadata": {
        "id": "pqddx7E_oAIn",
        "colab_type": "code",
        "outputId": "7b86a043-a5de-41f4-b04f-e1dfcbc13b5c",
        "colab": {
          "base_uri": "https://localhost:8080/",
          "height": 68
        }
      },
      "source": [
        "g = tf.Graph()\n",
        "with g.as_default():\n",
        "  with tf.name_scope(\"inputs\"):\n",
        "    a = tf.constant(2, tf.int32, name=\"a\")\n",
        "    b = tf.constant(3, tf.int32, name=\"b\")\n",
        "    \n",
        "  with tf.name_scope(\"ops\"):\n",
        "    c = tf.multiply(a, b, name=\"c\")\n",
        "    d = tf.add(a, b, name=\"d\")\n",
        "    e = tf.subtract(c, d, name=\"e\")\n",
        "    \n",
        "sess = tf.Session(graph=g)\n",
        "c_,d_,e_ = sess.run([c,d,e])\n",
        "print(\"c =\", c_)\n",
        "print(\"d =\",d_)\n",
        "print(\"e =\",e_)\n",
        "\n",
        "sess.close()"
      ],
      "execution_count": 0,
      "outputs": [
        {
          "output_type": "stream",
          "text": [
            "c = 6\n",
            "d = 5\n",
            "e = 1\n"
          ],
          "name": "stdout"
        }
      ]
    },
    {
      "cell_type": "code",
      "metadata": {
        "id": "yL1f2y4YfjuK",
        "colab_type": "code",
        "colab": {}
      },
      "source": [
        "# Define inputs\n",
        "a = tf.Variable(tf.random_uniform([]))\n",
        "b_pl = tf.placeholder(tf.float32, [None])\n",
        "\n",
        "# Ops\n",
        "c = a * b_pl\n",
        "d = a + b_pl\n",
        "e = tf.reduce_sum(c)\n",
        "f = tf.reduce_mean(d)\n",
        "g = e - f\n",
        "\n",
        "# initialize variable(s)\n",
        "init = tf.global_variables_initializer()\n",
        "\n",
        "# Update variable\n",
        "update_op = tf.assign(a, a + g)"
      ],
      "execution_count": 0,
      "outputs": []
    },
    {
      "cell_type": "code",
      "metadata": {
        "id": "da1ZkTvyftTO",
        "colab_type": "code",
        "colab": {}
      },
      "source": [
        "writer = tf.summary.FileWriter('asset', tf.get_default_graph())"
      ],
      "execution_count": 0,
      "outputs": []
    },
    {
      "cell_type": "code",
      "metadata": {
        "id": "vcPQMuBVfvZA",
        "colab_type": "code",
        "outputId": "09a87d1e-95d3-41fe-c00e-77c8d6ed6fb0",
        "colab": {
          "base_uri": "https://localhost:8080/",
          "height": 34
        }
      },
      "source": [
        "tf.summary.scalar(\"a\", a)"
      ],
      "execution_count": 0,
      "outputs": [
        {
          "output_type": "execute_result",
          "data": {
            "text/plain": [
              "<tf.Tensor 'a:0' shape=() dtype=string>"
            ]
          },
          "metadata": {
            "tags": []
          },
          "execution_count": 12
        }
      ]
    },
    {
      "cell_type": "code",
      "metadata": {
        "id": "l6dmoVPIgCDo",
        "colab_type": "code",
        "outputId": "6a9add57-5aa5-4f70-b7e4-3e9dd28ca165",
        "colab": {
          "base_uri": "https://localhost:8080/",
          "height": 34
        }
      },
      "source": [
        "tf.summary.histogram(\"c\", c)\n",
        "tf.summary.histogram(\"d\", d)"
      ],
      "execution_count": 0,
      "outputs": [
        {
          "output_type": "execute_result",
          "data": {
            "text/plain": [
              "<tf.Tensor 'd:0' shape=() dtype=string>"
            ]
          },
          "metadata": {
            "tags": []
          },
          "execution_count": 13
        }
      ]
    },
    {
      "cell_type": "code",
      "metadata": {
        "id": "5dFl5zMqg9qq",
        "colab_type": "code",
        "colab": {}
      },
      "source": [
        "summaries = tf.summary.merge_all()"
      ],
      "execution_count": 0,
      "outputs": []
    },
    {
      "cell_type": "code",
      "metadata": {
        "id": "zuO8mZg_hCEC",
        "colab_type": "code",
        "colab": {}
      },
      "source": [
        "sess = tf.Session()"
      ],
      "execution_count": 0,
      "outputs": []
    },
    {
      "cell_type": "code",
      "metadata": {
        "id": "AoVm5xSHmd-_",
        "colab_type": "code",
        "colab": {}
      },
      "source": [
        "sess.run(init)"
      ],
      "execution_count": 0,
      "outputs": []
    },
    {
      "cell_type": "code",
      "metadata": {
        "id": "SMxVkCxOmiOv",
        "colab_type": "code",
        "colab": {}
      },
      "source": [
        "for step in range(5):\n",
        "    _b = np.arange(10, dtype=np.float32)\n",
        "    _, summaries_proto = sess.run([update_op, summaries], {b_pl:_b})\n",
        "    \n",
        "    # Q8. Attach summaries_proto to TensorBoard.\n",
        "    writer.add_summary(summaries_proto, global_step=step)\n",
        "    \n",
        "# Close the session\n",
        "sess.close()"
      ],
      "execution_count": 0,
      "outputs": []
    },
    {
      "cell_type": "code",
      "metadata": {
        "id": "_HySy-l_fad5",
        "colab_type": "code",
        "colab": {}
      },
      "source": [
        "tf.reset_default_graph()"
      ],
      "execution_count": 0,
      "outputs": []
    },
    {
      "cell_type": "code",
      "metadata": {
        "id": "AGvepIQDqyCc",
        "colab_type": "code",
        "colab": {}
      },
      "source": [
        "# Define inputs\n",
        "a = tf.Variable(tf.random_uniform([]))\n",
        "b_pl = tf.placeholder(tf.float32, [None])\n",
        "\n",
        "# Ops\n",
        "c = a * b_pl\n",
        "d = a + b_pl\n",
        "e = tf.reduce_sum(c)\n",
        "f = tf.reduce_mean(d)\n",
        "g = e - f\n",
        "\n",
        "# initialize variable(s)\n",
        "init = tf.global_variables_initializer()\n",
        "\n",
        "# Update variable\n",
        "update_op = tf.assign(a, a + g)\n",
        "\n",
        "# Q4. Create a (summary) writer to `asset`\n",
        "writer = tf.summary.FileWriter('asset', tf.get_default_graph())\n",
        "\n",
        "#Q5. Add `a` to summary.scalar\n",
        "tf.summary.scalar(\"a\", a)\n",
        "\n",
        "#Q6. Add `c` and `d` to summary.histogram\n",
        "tf.summary.histogram(\"c\", c)\n",
        "tf.summary.histogram(\"d\", d)\n",
        "\n",
        "#Q7. Merge all summaries.\n",
        "summaries = tf.summary.merge_all()\n",
        "\n",
        "# Start a session\n",
        "sess = tf.Session()\n",
        "\n",
        "# Initialize Variable(s)\n",
        "sess.run(init)\n",
        "\n",
        "# Fetch the value of c, d, and e.\n",
        "for step in range(5):\n",
        "    _b = np.arange(10, dtype=np.float32)\n",
        "    _, summaries_proto = sess.run([update_op, summaries], {b_pl:_b})\n",
        "    \n",
        "    # Q8. Attach summaries_proto to TensorBoard.\n",
        "    writer.add_summary(summaries_proto, global_step=step)\n",
        "    \n",
        "# Close the session\n",
        "sess.close()"
      ],
      "execution_count": 0,
      "outputs": []
    },
    {
      "cell_type": "code",
      "metadata": {
        "id": "IyiGaYFpq6Y4",
        "colab_type": "code",
        "outputId": "feaa0f3f-ed97-428c-d321-0f2d781310de",
        "colab": {
          "base_uri": "https://localhost:8080/",
          "height": 68
        }
      },
      "source": [
        "#Create a graph\n",
        "g = tf.Graph()\n",
        "\n",
        "with g.as_default():\n",
        "    with tf.name_scope(\"inputs\"):\n",
        "        a = tf.constant(2, tf.int32, name=\"a\")\n",
        "        b = tf.constant(3, tf.int32, name=\"b\")\n",
        "\n",
        "    with tf.name_scope(\"ops\"):\n",
        "        c = tf.multiply(a, b, name=\"c\")\n",
        "        d = tf.add(a, b, name=\"d\")\n",
        "        e = tf.subtract(c, d, name=\"e\")\n",
        "\n",
        "#Start a session\n",
        "sess = tf.Session(graph=g)\n",
        "\n",
        "#Fetch c, d, e\n",
        "c_, d_, e_ = sess.run([c, d, e])\n",
        "print(\"c =\", c_)\n",
        "print(\"d =\", d_)\n",
        "print(\"e =\", e_)\n",
        "\n",
        "sess.close()"
      ],
      "execution_count": 0,
      "outputs": [
        {
          "output_type": "stream",
          "text": [
            "c = 6\n",
            "d = 5\n",
            "e = 1\n"
          ],
          "name": "stdout"
        }
      ]
    },
    {
      "cell_type": "code",
      "metadata": {
        "id": "C7V8S3LzrK5d",
        "colab_type": "code",
        "colab": {}
      },
      "source": [
        "tf.reset_default_graph()"
      ],
      "execution_count": 0,
      "outputs": []
    },
    {
      "cell_type": "code",
      "metadata": {
        "id": "UHPsKhmsy3wz",
        "colab_type": "code",
        "outputId": "54998d75-67e7-4427-e817-325fe046a8e2",
        "colab": {
          "base_uri": "https://localhost:8080/",
          "height": 51
        }
      },
      "source": [
        "output = tf.constant([[1,3,5],[4,6,8]], dtype = tf.float32)\n",
        "print(output.eval())\n",
        "assert np.allclose(output.eval(), np.array([[1,3,5],[4,6,8]], dtype = np.float32))\n"
      ],
      "execution_count": 0,
      "outputs": [
        {
          "output_type": "stream",
          "text": [
            "[[1. 3. 5.]\n",
            " [4. 6. 8.]]\n"
          ],
          "name": "stdout"
        }
      ]
    },
    {
      "cell_type": "code",
      "metadata": {
        "id": "sMYk0NDV0DH_",
        "colab_type": "code",
        "outputId": "f11a9122-5b24-493d-ae4e-4866274fef36",
        "colab": {
          "base_uri": "https://localhost:8080/",
          "height": 68
        }
      },
      "source": [
        "##Here we are creating a random tensors of the 3 x 2 with elements from  normal distribution of mean=0 and standard deviation=2\n",
        "x = tf.random_normal([3, 2],0, 2.)\n",
        "print(x.eval())"
      ],
      "execution_count": 0,
      "outputs": [
        {
          "output_type": "stream",
          "text": [
            "[[ 1.1118735  1.2449933]\n",
            " [-1.5471766  4.409965 ]\n",
            " [-0.2753615  2.365573 ]]\n"
          ],
          "name": "stdout"
        }
      ]
    },
    {
      "cell_type": "code",
      "metadata": {
        "id": "ln95u6DE3w3G",
        "colab_type": "code",
        "outputId": "fbe1af01-58b7-402c-be88-c92a6f6bd71e",
        "colab": {
          "base_uri": "https://localhost:8080/",
          "height": 68
        }
      },
      "source": [
        "##Create a random tensor of the shape [3, 2], with elements from a normal distribution of mean=0, standard deviation=1 \n",
        "#such that any values don't exceed 2 standard deviations from the mean.\n",
        "output = tf.truncated_normal([3, 2])\n",
        "print(output.eval())"
      ],
      "execution_count": 0,
      "outputs": [
        {
          "output_type": "stream",
          "text": [
            "[[-1.3163658  -0.6023648 ]\n",
            " [-1.37537    -0.21423396]\n",
            " [ 0.0919451  -1.220524  ]]\n"
          ],
          "name": "stdout"
        }
      ]
    },
    {
      "cell_type": "markdown",
      "metadata": {
        "id": "mkrD3-gd4jHT",
        "colab_type": "text"
      },
      "source": [
        "### Variables\n"
      ]
    },
    {
      "cell_type": "code",
      "metadata": {
        "id": "V3HovKVi3_xh",
        "colab_type": "code",
        "outputId": "5a42ec36-2ada-4b85-a7bb-b04e6914f63a",
        "colab": {
          "base_uri": "https://localhost:8080/",
          "height": 34
        }
      },
      "source": [
        "x = tf.Variable(1.0, name=\"weight\")\n",
        "with tf.Session() as sess:\n",
        "    sess.run(x.initializer)\n",
        "    print(sess.run(x))"
      ],
      "execution_count": 0,
      "outputs": [
        {
          "output_type": "stream",
          "text": [
            "1.0\n"
          ],
          "name": "stdout"
        }
      ]
    },
    {
      "cell_type": "code",
      "metadata": {
        "id": "9kprZkR85o_6",
        "colab_type": "code",
        "outputId": "47261c4b-4e14-4c37-96b6-030ea3aa5b07",
        "colab": {
          "base_uri": "https://localhost:8080/",
          "height": 34
        }
      },
      "source": [
        "x1 = tf.Variable(1.0)\n",
        "x2 = tf.Variable(2.0)\n",
        "x3 = tf.Variable(3.0)\n",
        "\n",
        "output = x1 + x2 + x3\n",
        "\n",
        "# Q. Add an Op to initialize global variables.\n",
        "init_op = tf.global_variables_initializer()\n",
        "\n",
        "with tf.Session() as sess:\n",
        "    sess.run(init_op) # Initialize all variables.\n",
        "    print(sess.run(out))"
      ],
      "execution_count": 0,
      "outputs": [
        {
          "output_type": "stream",
          "text": [
            "6.0\n"
          ],
          "name": "stdout"
        }
      ]
    },
    {
      "cell_type": "code",
      "metadata": {
        "id": "Ru7xqM177XYg",
        "colab_type": "code",
        "colab": {}
      },
      "source": [
        "import tensorflow as tf\n",
        "const = tf.constant(2.0, name=\"const\")\n",
        "    \n",
        "x = tf.Variable(2.0, name='x')  ## create TensorFlow variables\n",
        "y = tf.Variable(1.0, name='y')"
      ],
      "execution_count": 0,
      "outputs": []
    },
    {
      "cell_type": "code",
      "metadata": {
        "id": "h8lOx79eDcqo",
        "colab_type": "code",
        "colab": {}
      },
      "source": [
        "# now create some operations\n",
        "d = tf.add(x, y, name='d')\n",
        "e = tf.add(y, const, name='e')\n",
        "a = tf.multiply(d, e, name='a')"
      ],
      "execution_count": 0,
      "outputs": []
    },
    {
      "cell_type": "code",
      "metadata": {
        "id": "RNIK7JPHDgHz",
        "colab_type": "code",
        "colab": {}
      },
      "source": [
        "init_op = tf.global_variables_initializer()"
      ],
      "execution_count": 0,
      "outputs": []
    },
    {
      "cell_type": "code",
      "metadata": {
        "id": "02XXw3Y8EC8U",
        "colab_type": "code",
        "outputId": "d3aff867-24b2-4bc9-f10e-cea3ecae12e9",
        "colab": {
          "base_uri": "https://localhost:8080/",
          "height": 34
        }
      },
      "source": [
        "# start the session\n",
        "with tf.Session() as sess:\n",
        "    sess.run(init_op)\n",
        "    # compute the output of the graph\n",
        "    a_out = sess.run(a)\n",
        "    print(\"Variable a is {}\".format(a_out))"
      ],
      "execution_count": 0,
      "outputs": [
        {
          "output_type": "stream",
          "text": [
            "Variable a is 9.0\n"
          ],
          "name": "stdout"
        }
      ]
    },
    {
      "cell_type": "code",
      "metadata": {
        "id": "qIMSCSHmEEYh",
        "colab_type": "code",
        "colab": {}
      },
      "source": [
        ""
      ],
      "execution_count": 0,
      "outputs": []
    }
  ]
}